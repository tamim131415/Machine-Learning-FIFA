{
  "nbformat": 4,
  "nbformat_minor": 0,
  "metadata": {
    "colab": {
      "provenance": []
    },
    "kernelspec": {
      "name": "python3",
      "display_name": "Python 3"
    },
    "language_info": {
      "name": "python"
    }
  },
  "cells": [
    {
      "cell_type": "code",
      "execution_count": 3,
      "metadata": {
        "colab": {
          "base_uri": "https://localhost:8080/"
        },
        "id": "mNwv1OynWKen",
        "outputId": "108a8aad-2dd2-4ab8-f4fc-7f444b5ca2c4"
      },
      "outputs": [
        {
          "output_type": "stream",
          "name": "stdout",
          "text": [
            "Mean for Age: 28.056437389770725\n",
            "Mean for Potential: 72.18606701940035\n",
            "Mean for Value: 3141962.0811287477\n",
            "Mean for GKDiving: 69.05908289241623\n",
            "Mean for GKHandling: 66.59876543209876\n",
            "Mean for GKKicking: 65.09435626102292\n",
            "Mean for GKPositioning: 67.69929453262786\n",
            "Mean for GKReflexes: 70.19488536155202\n"
          ]
        }
      ],
      "source": [
        "import pandas as pd\n",
        "import numpy as np\n",
        "from scipy.stats import jarque_bera, normaltest, ttest_1samp\n",
        "from statsmodels.stats.stattools import durbin_watson\n",
        "\n",
        "# Load the dataset\n",
        "df = pd.read_csv('final-gk.csv')\n",
        "\n",
        "# List of numerical columns to perform tests on\n",
        "numerical_columns = ['Age', 'Potential', 'Value', 'GKDiving', 'GKHandling', 'GKKicking',\n",
        "                     'GKPositioning', 'GKReflexes']\n",
        "\n",
        "# Iterate through each numerical column\n",
        "for col in numerical_columns:\n",
        "    data = df[col]\n",
        "\n",
        "    # Mean\n",
        "    mean_value = np.mean(data)\n",
        "    print(f'Mean for {col}: {mean_value}')\n",
        "\n",
        "    # # Standard Deviation\n",
        "    # std_dev = np.std(data, ddof=1)\n",
        "    # print(f'Standard Deviation for {col}: {std_dev}')\n",
        "\n"
      ]
    },
    {
      "cell_type": "code",
      "source": [
        "# Iterate through each numerical column\n",
        "for col in numerical_columns:\n",
        "    data = df[col]\n",
        "\n",
        "    # # Mean\n",
        "    # mean_value = np.mean(data)\n",
        "    # print(f'Mean for {col}: {mean_value}')\n",
        "\n",
        "    # Standard Deviation\n",
        "    std_dev = np.std(data, ddof=1)\n",
        "    print(f'Standard Deviation for {col}: {std_dev}')"
      ],
      "metadata": {
        "colab": {
          "base_uri": "https://localhost:8080/"
        },
        "id": "mGiu8_iSXK0M",
        "outputId": "bd364d7d-3fe8-40a1-8c21-6e2140c69b9c"
      },
      "execution_count": 4,
      "outputs": [
        {
          "output_type": "stream",
          "name": "stdout",
          "text": [
            "Standard Deviation for Age: 5.334229588413096\n",
            "Standard Deviation for Potential: 5.960130839867328\n",
            "Standard Deviation for Value: 8923320.014371255\n",
            "Standard Deviation for GKDiving: 6.575452588211171\n",
            "Standard Deviation for GKHandling: 6.384864485855628\n",
            "Standard Deviation for GKKicking: 6.8699239548697575\n",
            "Standard Deviation for GKPositioning: 7.202680402049936\n",
            "Standard Deviation for GKReflexes: 6.951472843937273\n"
          ]
        }
      ]
    },
    {
      "cell_type": "markdown",
      "source": [
        "**Defender**"
      ],
      "metadata": {
        "id": "xY9uy2COXP_F"
      }
    },
    {
      "cell_type": "code",
      "source": [
        "# Load the dataset\n",
        "df = pd.read_csv('final-df.csv')\n",
        "\n",
        "# List of numerical columns to perform tests on\n",
        "numerical_columns = ['Age', 'Potential', 'ShortPassing', 'Balance', 'Strength',\n",
        "                     'Interceptions', 'SlidingTackle', 'Work Rate_NUM', 'BMI', 'Value']\n",
        "\n",
        "\n",
        "# Iterate through each numerical column\n",
        "for col in numerical_columns:\n",
        "    data = df[col]\n",
        "\n",
        "    # Mean\n",
        "    mean_value = np.mean(data)\n",
        "    print(f'Mean for {col}: {mean_value}')\n",
        "\n",
        "    # # Standard Deviation\n",
        "    # std_dev = np.std(data, ddof=1)\n",
        "    # print(f'Standard Deviation for {col}: {std_dev}')"
      ],
      "metadata": {
        "colab": {
          "base_uri": "https://localhost:8080/"
        },
        "id": "-QQ4gIZKXUYs",
        "outputId": "46d70035-a789-44ad-cec2-9a2645e9ebe4"
      },
      "execution_count": 5,
      "outputs": [
        {
          "output_type": "stream",
          "name": "stdout",
          "text": [
            "Mean for Age: 26.544753447067073\n",
            "Mean for Potential: 72.36036457116148\n",
            "Mean for ShortPassing: 63.12082262210797\n",
            "Mean for Balance: 61.719326945548026\n",
            "Mean for Strength: 72.68567422294929\n",
            "Mean for Interceptions: 66.43865389109605\n",
            "Mean for SlidingTackle: 66.82776349614396\n",
            "Mean for Work Rate_NUM: 5.397756485160084\n",
            "Mean for BMI: 22.904802523954192\n",
            "Mean for Value: 3398464.5945314327\n"
          ]
        }
      ]
    },
    {
      "cell_type": "code",
      "source": [
        "# Iterate through each numerical column\n",
        "for col in numerical_columns:\n",
        "    data = df[col]\n",
        "\n",
        "    # # Mean\n",
        "    # mean_value = np.mean(data)\n",
        "    # print(f'Mean for {col}: {mean_value}')\n",
        "\n",
        "    # Standard Deviation\n",
        "    std_dev = np.std(data, ddof=1)\n",
        "    print(f'Standard Deviation for {col}: {std_dev}')"
      ],
      "metadata": {
        "colab": {
          "base_uri": "https://localhost:8080/"
        },
        "id": "-UjLEd3YYZIj",
        "outputId": "1241ee68-9135-421f-9acc-6e8bd2050604"
      },
      "execution_count": 6,
      "outputs": [
        {
          "output_type": "stream",
          "name": "stdout",
          "text": [
            "Standard Deviation for Age: 4.559337620822427\n",
            "Standard Deviation for Potential: 5.419570397971305\n",
            "Standard Deviation for ShortPassing: 8.141980723050331\n",
            "Standard Deviation for Balance: 12.812178562191956\n",
            "Standard Deviation for Strength: 10.087418645049508\n",
            "Standard Deviation for Interceptions: 7.092319273056644\n",
            "Standard Deviation for SlidingTackle: 6.417237730366966\n",
            "Standard Deviation for Work Rate_NUM: 2.7467103219780156\n",
            "Standard Deviation for BMI: 1.3614355072926656\n",
            "Standard Deviation for Value: 7332094.808802614\n"
          ]
        }
      ]
    },
    {
      "cell_type": "markdown",
      "source": [
        "**Mid-Fielder**"
      ],
      "metadata": {
        "id": "7qlEzSIDYhHj"
      }
    },
    {
      "cell_type": "code",
      "source": [
        "# Load the dataset\n",
        "df = pd.read_csv('final-mf.csv')\n",
        "\n",
        "# List of numerical columns to perform tests on\n",
        "numerical_columns = ['Age', 'Potential', 'Value', 'Crossing', 'ShortPassing', 'Dribbling',\n",
        "       'LongPassing', 'BallControl', 'SprintSpeed', 'LongShots', 'Aggression',\n",
        "       'Vision', 'BMI', 'Work Rate_NUM']\n",
        "\n",
        "\n",
        "# Iterate through each numerical column\n",
        "for col in numerical_columns:\n",
        "    data = df[col]\n",
        "\n",
        "    # Mean\n",
        "    mean_value = np.mean(data)\n",
        "    print(f'Mean for {col}: {mean_value}')\n",
        "\n",
        "    # # Standard Deviation\n",
        "    # std_dev = np.std(data, ddof=1)\n",
        "    # print(f'Standard Deviation for {col}: {std_dev}')"
      ],
      "metadata": {
        "colab": {
          "base_uri": "https://localhost:8080/"
        },
        "id": "5d7F9ePzYlSx",
        "outputId": "4c691d4a-a55d-46bf-c8a5-5da1829b0243"
      },
      "execution_count": 8,
      "outputs": [
        {
          "output_type": "stream",
          "name": "stdout",
          "text": [
            "Mean for Age: 25.63044267053701\n",
            "Mean for Potential: 73.13044267053701\n",
            "Mean for Value: 4404113.20754717\n",
            "Mean for Crossing: 62.12246008708273\n",
            "Mean for ShortPassing: 68.83182148040639\n",
            "Mean for Dribbling: 69.04789550072569\n",
            "Mean for LongPassing: 64.27376632801162\n",
            "Mean for BallControl: 69.822206095791\n",
            "Mean for SprintSpeed: 70.00471698113208\n",
            "Mean for LongShots: 61.53283744557329\n",
            "Mean for Aggression: 59.013425253991294\n",
            "Mean for Vision: 65.96026850507982\n",
            "Mean for BMI: 22.713183962264154\n",
            "Mean for Work Rate_NUM: 4.9990928882438315\n"
          ]
        }
      ]
    },
    {
      "cell_type": "code",
      "source": [
        "# Iterate through each numerical column\n",
        "for col in numerical_columns:\n",
        "    data = df[col]\n",
        "\n",
        "    # # Mean\n",
        "    # mean_value = np.mean(data)\n",
        "    # print(f'Mean for {col}: {mean_value}')\n",
        "\n",
        "    # Standard Deviation\n",
        "    std_dev = np.std(data, ddof=1)\n",
        "    print(f'Standard Deviation for {col}: {std_dev}')"
      ],
      "metadata": {
        "colab": {
          "base_uri": "https://localhost:8080/"
        },
        "id": "P0vhhBF8Yxot",
        "outputId": "d4b6acf1-c0e6-407b-f247-5440b2e55244"
      },
      "execution_count": 9,
      "outputs": [
        {
          "output_type": "stream",
          "name": "stdout",
          "text": [
            "Standard Deviation for Age: 4.562758442179973\n",
            "Standard Deviation for Potential: 5.734797211762647\n",
            "Standard Deviation for Value: 9792707.530613853\n",
            "Standard Deviation for Crossing: 9.502335609912311\n",
            "Standard Deviation for ShortPassing: 7.125607870077886\n",
            "Standard Deviation for Dribbling: 7.330858801103352\n",
            "Standard Deviation for LongPassing: 9.0562456116375\n",
            "Standard Deviation for BallControl: 6.71978154231134\n",
            "Standard Deviation for SprintSpeed: 11.6318495223017\n",
            "Standard Deviation for LongShots: 10.54055303518221\n",
            "Standard Deviation for Aggression: 14.27080167809474\n",
            "Standard Deviation for Vision: 8.082660176988414\n",
            "Standard Deviation for BMI: 1.3504678397580216\n",
            "Standard Deviation for Work Rate_NUM: 3.0898654137625887\n"
          ]
        }
      ]
    },
    {
      "cell_type": "markdown",
      "source": [
        "**Forward**"
      ],
      "metadata": {
        "id": "QUlmze_AY4Bn"
      }
    },
    {
      "cell_type": "code",
      "source": [
        "# Load the dataset\n",
        "df = pd.read_csv('final-fd.csv')\n",
        "\n",
        "# List of numerical columns to perform tests on\n",
        "numerical_columns = ['Age', 'Potential', 'Value', 'Finishing', 'HeadingAccuracy',\n",
        "       'ShortPassing', 'Volleys', 'Dribbling', 'BallControl', 'SprintSpeed',\n",
        "       'ShotPower', 'Penalties', 'BMI', 'Work Rate_NUM']\n",
        "\n",
        "# Iterate through each numerical column\n",
        "for col in numerical_columns:\n",
        "    data = df[col]\n",
        "\n",
        "    # Mean\n",
        "    mean_value = np.mean(data)\n",
        "    print(f'Mean for {col}: {mean_value}')\n",
        "\n",
        "    # # Standard Deviation\n",
        "    # std_dev = np.std(data, ddof=1)\n",
        "    # print(f'Standard Deviation for {col}: {std_dev}')"
      ],
      "metadata": {
        "colab": {
          "base_uri": "https://localhost:8080/"
        },
        "id": "FxSzM9pYY6Gs",
        "outputId": "53437f61-c31c-47ee-ec89-4fcecb748a15"
      },
      "execution_count": 10,
      "outputs": [
        {
          "output_type": "stream",
          "name": "stdout",
          "text": [
            "Mean for Age: 26.41608040201005\n",
            "Mean for Potential: 72.02211055276382\n",
            "Mean for Value: 3818834.1708542714\n",
            "Mean for Finishing: 69.26934673366834\n",
            "Mean for HeadingAccuracy: 66.89195979899498\n",
            "Mean for ShortPassing: 62.095477386934675\n",
            "Mean for Volleys: 62.58140703517588\n",
            "Mean for Dribbling: 66.0321608040201\n",
            "Mean for BallControl: 67.38643216080402\n",
            "Mean for SprintSpeed: 70.62160804020101\n",
            "Mean for ShotPower: 70.45929648241206\n",
            "Mean for Penalties: 65.5251256281407\n",
            "Mean for BMI: 23.107040201005027\n",
            "Mean for Work Rate_NUM: 4.097487437185929\n"
          ]
        }
      ]
    },
    {
      "cell_type": "code",
      "source": [
        "# Iterate through each numerical column\n",
        "for col in numerical_columns:\n",
        "    data = df[col]\n",
        "\n",
        "    # # Mean\n",
        "    # mean_value = np.mean(data)\n",
        "    # print(f'Mean for {col}: {mean_value}')\n",
        "\n",
        "    # Standard Deviation\n",
        "    std_dev = np.std(data, ddof=1)\n",
        "    print(f'Standard Deviation for {col}: {std_dev}')"
      ],
      "metadata": {
        "colab": {
          "base_uri": "https://localhost:8080/"
        },
        "id": "j5czVBTxZDAf",
        "outputId": "0e29ff87-59d9-4664-e5ca-b21cafd78205"
      },
      "execution_count": 11,
      "outputs": [
        {
          "output_type": "stream",
          "name": "stdout",
          "text": [
            "Standard Deviation for Age: 4.862073775795144\n",
            "Standard Deviation for Potential: 5.6105834029544095\n",
            "Standard Deviation for Value: 9849679.370823823\n",
            "Standard Deviation for Finishing: 6.943557193624398\n",
            "Standard Deviation for HeadingAccuracy: 8.665093584952785\n",
            "Standard Deviation for ShortPassing: 7.853160277437894\n",
            "Standard Deviation for Volleys: 9.726069937570806\n",
            "Standard Deviation for Dribbling: 7.19749208139271\n",
            "Standard Deviation for BallControl: 6.844161808718613\n",
            "Standard Deviation for SprintSpeed: 11.333955950741519\n",
            "Standard Deviation for ShotPower: 7.583826928231101\n",
            "Standard Deviation for Penalties: 8.312107015432035\n",
            "Standard Deviation for BMI: 1.4813506444854663\n",
            "Standard Deviation for Work Rate_NUM: 2.6714782606503022\n"
          ]
        }
      ]
    }
  ]
}